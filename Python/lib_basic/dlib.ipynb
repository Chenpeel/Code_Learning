{
 "cells": [
  {
   "cell_type": "markdown",
   "metadata": {},
   "source": [
    "# dilb库是一个使用现代C++技术编写的跨平台的通用库\n",
    "\n",
    "## 主要特点如下：\n",
    "\n",
    "- 完善的文档：每个类每个函数都有详细的文档，并且提供了大量的示例代码，如果你发现文档描述不清晰或者没有文档，告诉作者，作者会立刻添加。 \n",
    "- 可移植代码：代码符合ISO C++标准，不需要第三方库支持，支持win32、Linux、Mac OS X、Solaris、HPUX、BSDs 和 POSIX 系统 \n",
    "- 线程支持：提供简单的可移植的线程API \n",
    "- 网络支持：提供简单的可移植的Socket API和一个简单的Http服务器 \n",
    "- 图形用户界面：提供线程安全的GUI API \n",
    "- 数值算法：矩阵、大整数、随机数运算等 \n",
    "- 机器学习算法：\n",
    "- 图形模型算法： \n",
    "- 图像处理：支持读写Windows BMP文件，不同类型色彩转换 \n",
    "- 数据压缩和完整性算法：CRC32、Md5、不同形式的PPM算法 \n",
    "- 测试：线程安全的日志类和模块化的单元测试框架以及各种测试assert支持\n",
    "- 一般工具：XML解析、内存管理、类型安全的big/little endian转换、序列化支持和容器类\n",
    "\n",
    "## 应用方面：\n",
    "\n",
    "### dilb.get_frontal_face_detector函数实现人脸检测可视化\n",
    "\n",
    "#### hog提取特征的函数\n",
    "\n",
    "#### CNN提取特征的函数\n",
    "\n",
    "\n",
    "\n"
   ]
  }
 ],
 "metadata": {
  "kernelspec": {
   "display_name": "Python 3 (ipykernel)",
   "language": "python",
   "name": "python3"
  },
  "language_info": {
   "codemirror_mode": {
    "name": "ipython",
    "version": 3
   },
   "file_extension": ".py",
   "mimetype": "text/x-python",
   "name": "python",
   "nbconvert_exporter": "python",
   "pygments_lexer": "ipython3",
   "version": "3.11.4"
  }
 },
 "nbformat": 4,
 "nbformat_minor": 2
}
