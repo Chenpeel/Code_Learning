{
 "cells": [
  {
   "cell_type": "code",
   "execution_count": null,
   "metadata": {},
   "outputs": [],
   "source": [
    "import os\n",
    "\n",
    "lst = dir(os)\n",
    "# lst"
   ]
  },
  {
   "attachments": {},
   "cell_type": "markdown",
   "metadata": {},
   "source": [
    "##### 系统相关： \n",
    "`os.name  ` , `os.environ` , `os.sep` , `os.pathsep` , `os.linesep` ..."
   ]
  },
  {
   "cell_type": "code",
   "execution_count": null,
   "metadata": {},
   "outputs": [],
   "source": [
    "name = os.name\n",
    "environ = os.environ\n",
    "sep = os.sep # return \"/\"\n",
    "pathsep = os.pathsep # return \":\"\n",
    "linesep = os.linesep # return \"\\n\"\n",
    "\n",
    "print(name)\n",
    "print(environ)\n",
    "print(sep) \n",
    "print(pathsep)\n",
    "print(linesep)"
   ]
  },
  {
   "attachments": {},
   "cell_type": "markdown",
   "metadata": {},
   "source": [
    "##### 文件和目录\n",
    "###### 创建、删除文件夹\n",
    "`os.mkdir(path)` , `os.rmdir(path)` \n",
    "###### 获取文件目录信息\n",
    "`os.stat` , `os.getcwd(path)` ,`os.listdir(path)`\n",
    "###### 重命名\n",
    "`os.rename(path)`"
   ]
  },
  {
   "cell_type": "code",
   "execution_count": null,
   "metadata": {},
   "outputs": [],
   "source": [
    "# os.mkdir('./TEST')\n",
    "# os.mkdirs('./test/tt')\n",
    "# os.rmdir('./TEST')\n",
    "# os.rmdirs('./test/')\n",
    "# os.stat\n",
    "# os.rename('./Dlib.md','dlib.ipynb')\n"
   ]
  },
  {
   "attachments": {},
   "cell_type": "markdown",
   "metadata": {},
   "source": [
    "###### 创建文件\n",
    "`with open`\n",
    "###### 删除文件\n",
    "`os.remove(path)`"
   ]
  },
  {
   "cell_type": "code",
   "execution_count": null,
   "metadata": {},
   "outputs": [],
   "source": [
    "file_name = \"test.ipynb\"\n",
    "if os.path.exists(file_name):\n",
    "    pass\n",
    "else:\n",
    "    with open('./os_basic.ipynb','r') as f:\n",
    "        with open('./test.ipynb', 'w') as t:\n",
    "            contents = f.read()\n",
    "            t.write(contents)\n",
    "    with open('./test.ipynb','r') as f:\n",
    "        contents = f.read()        \n",
    "        print(contents)\n",
    "\n",
    "path = os.getcwd()\n",
    "print(os.listdir(path))\n",
    "\n",
    "os.remove('./test.ipynb')\n",
    "\n",
    "os.listdir(path)\n",
    "\n"
   ]
  },
  {
   "attachments": {},
   "cell_type": "markdown",
   "metadata": {},
   "source": [
    "###### 路径\n",
    "`os.chdir(path)`\n",
    "###### 是否绝对路径\n",
    "`os.path.isabs(path)`"
   ]
  },
  {
   "cell_type": "code",
   "execution_count": null,
   "metadata": {},
   "outputs": [],
   "source": [
    "path = \"/Users/alpha/Desktop/Learn/Code_Learning/Python/\"\n",
    "os.chdir(path)\n",
    "print(os.getcwd())\n",
    "path1 = '/Users/alpha/Desktop/'\n",
    "path2 = 'Learn/Code_Learning/Python/lib_basic/'\n",
    "path = os.path.join(path1,path2)\n",
    "os.chdir(path)\n",
    "print(os.getcwd())\n",
    "os.path.isabs(path)"
   ]
  },
  {
   "attachments": {},
   "cell_type": "markdown",
   "metadata": {},
   "source": [
    "###### 文件存在\n",
    "`os.path.isdir()` ,  `os.path.exsits()`"
   ]
  },
  {
   "cell_type": "code",
   "execution_count": null,
   "metadata": {},
   "outputs": [],
   "source": [
    "print(os.path.isdir(path))\n",
    "print(os.path.exists(path))\n",
    "path ='/Users/alpha/Desktop/Learn/Code_Learning/Python/lib_basic/os_basic.ipynb' \n",
    "print(os.path.isfile(path))"
   ]
  },
  {
   "attachments": {},
   "cell_type": "markdown",
   "metadata": {},
   "source": [
    "###### 文件大小字节数\n",
    "`os.path.getsiez(path)`"
   ]
  },
  {
   "cell_type": "code",
   "execution_count": null,
   "metadata": {},
   "outputs": [],
   "source": [
    "os.path.getsize(path)"
   ]
  },
  {
   "attachments": {},
   "cell_type": "markdown",
   "metadata": {},
   "source": [
    "###### 文件名\n",
    "`os.path.dirname(path)`\n",
    "######  文件名和后缀\n",
    "`os.path.basename(path)`"
   ]
  },
  {
   "cell_type": "code",
   "execution_count": null,
   "metadata": {},
   "outputs": [],
   "source": [
    "dirname = os.path.dirname(path)\n",
    "basename = os.path.basename(path)\n",
    "print(dirname,basename)"
   ]
  },
  {
   "cell_type": "code",
   "execution_count": null,
   "metadata": {},
   "outputs": [],
   "source": [
    "import time "
   ]
  },
  {
   "attachments": {},
   "cell_type": "markdown",
   "metadata": {},
   "source": [
    "##### 时间相关 \n",
    "###### 最后访问时间\n",
    "`os.path.getatime(path)`\n",
    "###### 创建时间\n",
    "`os.path.getctime(path)`\n",
    "###### 最后修改时间\n",
    "`os.path.getmtime(path)`"
   ]
  },
  {
   "cell_type": "code",
   "execution_count": null,
   "metadata": {},
   "outputs": [],
   "source": [
    "atime = os.path.getatime(path)\n",
    "ctime = os.path.getctime(path)\n",
    "mtime = os.path.getmtime(path)\n",
    "print(atime,ctime,mtime)"
   ]
  }
 ],
 "metadata": {
  "kernelspec": {
   "display_name": "Python 3",
   "language": "python",
   "name": "python3"
  },
  "language_info": {
   "codemirror_mode": {
    "name": "ipython",
    "version": 3
   },
   "file_extension": ".py",
   "mimetype": "text/x-python",
   "name": "python",
   "nbconvert_exporter": "python",
   "pygments_lexer": "ipython3",
   "version": "3.11.4"
  },
  "orig_nbformat": 4
 },
 "nbformat": 4,
 "nbformat_minor": 2
}
