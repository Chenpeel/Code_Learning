{
 "cells": [
  {
   "cell_type": "code",
   "execution_count": 35,
   "metadata": {},
   "outputs": [],
   "source": [
    "import os\n",
    "\n",
    "lst = dir(os)\n",
    "# lst"
   ]
  },
  {
   "attachments": {},
   "cell_type": "markdown",
   "metadata": {},
   "source": [
    "##### 系统相关： \n",
    "`os.name  ` , `os.environ` , `os.sep` , `os.pathsep` , `os.linesep` ..."
   ]
  },
  {
   "cell_type": "code",
   "execution_count": 36,
   "metadata": {},
   "outputs": [
    {
     "name": "stdout",
     "output_type": "stream",
     "text": [
      "posix\n",
      "environ({'COLORFGBG': '15;0', 'COLORTERM': 'truecolor', 'COMMAND_MODE': 'unix2003', 'DISPLAY': '/private/tmp/com.apple.launchd.W4AVvI0w9i/org.xquartz:0', 'HOME': '/Users/alpha', 'ITERM_PROFILE': 'Default', 'ITERM_SESSION_ID': 'w0t0p0:D1E54062-417A-44D7-87DE-85959A9C765F', 'LC_CTYPE': 'UTF-8', 'LC_TERMINAL': 'iTerm2', 'LC_TERMINAL_VERSION': '3.4.19', 'LESS': '-R', 'LOGNAME': 'alpha', 'LSCOLORS': 'Gxfxcxdxbxegedabagacad', 'LS_COLORS': 'di=1;36:ln=35:so=32:pi=33:ex=31:bd=34;46:cd=34;43:su=30;41:sg=30;46:tw=30;42:ow=30;43', 'MallocNanoZone': '0', 'OLDPWD': '/', 'ORIGINAL_XDG_CURRENT_DESKTOP': 'undefined', 'P9K_SSH': '0', 'P9K_TTY': 'old', 'PAGER': 'cat', 'PATH': '/opt/homebrew/bin:/Users/alpha/Library/Python/3.11/bin:/opt/homebrew/bin:/usr/local/bin:/System/Cryptexes/App/usr/bin:/usr/bin:/bin:/usr/sbin:/sbin:/Library/TeX/texbin:/opt/X11/bin:/Library/Apple/usr/bin:/var/run/com.apple.security.cryptexd/codex.system/bootstrap/usr/local/bin:/var/run/com.apple.security.cryptexd/codex.system/bootstrap/usr/bin:/var/run/com.apple.security.cryptexd/codex.system/bootstrap/usr/appleinternal/bin:/opt/homebrew/bin:/opt/homebrew/bin:/usr/local/bin:/System/Cryptexes/App/usr/bin:/usr/bin:/bin:/usr/sbin:/sbin:/Library/TeX/texbin:/opt/X11/bin:/Library/Apple/usr/bin:/var/run/com.apple.security.cryptexd/codex.system/bootstrap/usr/local/bin:/var/run/com.apple.security.cryptexd/codex.system/bootstrap/usr/bin:/var/run/com.apple.security.cryptexd/codex.system/bootstrap/usr/appleinternal/bin:/opt/homebrew/bin', 'PWD': '/', 'SHELL': '/bin/zsh', 'SHLVL': '1', 'SSH_AUTH_SOCK': '/private/tmp/com.apple.launchd.TcIeKdIZwU/Listeners', 'TERM': 'xterm-color', 'TERM_PROGRAM': 'iTerm.app', 'TERM_PROGRAM_VERSION': '3.4.19', 'TERM_SESSION_ID': 'w0t0p0:D1E54062-417A-44D7-87DE-85959A9C765F', 'TMPDIR': '/var/folders/_v/fs3xptmj3dn2jnsny8lq89_c0000gn/T/', 'USER': 'alpha', 'VSCODE_AMD_ENTRYPOINT': 'vs/workbench/api/node/extensionHostProcess', 'VSCODE_CODE_CACHE_PATH': '/Users/alpha/Library/Application Support/Code/CachedData/695af097c7bd098fbf017ce3ac85e09bbc5dda06', 'VSCODE_CRASH_REPORTER_PROCESS_TYPE': 'extensionHost', 'VSCODE_CWD': '/', 'VSCODE_HANDLES_UNCAUGHT_ERRORS': 'true', 'VSCODE_IPC_HOOK': '/Users/alpha/Library/Application Support/Code/1.79-main.sock', 'VSCODE_NLS_CONFIG': '{\"locale\":\"zh-cn\",\"osLocale\":\"en-cn\",\"availableLanguages\":{\"*\":\"zh-cn\"},\"_languagePackId\":\"b21449bfcc24b92b09a8c487b9b70068.zh-cn\",\"_translationsConfigFile\":\"/Users/alpha/Library/Application Support/Code/clp/b21449bfcc24b92b09a8c487b9b70068.zh-cn/tcf.json\",\"_cacheRoot\":\"/Users/alpha/Library/Application Support/Code/clp/b21449bfcc24b92b09a8c487b9b70068.zh-cn\",\"_resolvedLanguagePackCoreLocation\":\"/Users/alpha/Library/Application Support/Code/clp/b21449bfcc24b92b09a8c487b9b70068.zh-cn/695af097c7bd098fbf017ce3ac85e09bbc5dda06\",\"_corruptedFile\":\"/Users/alpha/Library/Application Support/Code/clp/b21449bfcc24b92b09a8c487b9b70068.zh-cn/corrupted.info\",\"_languagePackSupport\":true}', 'VSCODE_PID': '13266', 'XPC_FLAGS': '0x0', 'XPC_SERVICE_NAME': 'application.com.microsoft.VSCode.10708489.10708495', 'ZSH': '/Users/alpha/.oh-my-zsh', '_': '/Applications/Visual Studio Code.app/Contents/MacOS/Electron', '_P9K_TTY': '/dev/ttys000', '__CFBundleIdentifier': 'com.microsoft.VSCode', '__CF_USER_TEXT_ENCODING': '0x1F5:0x0:0x0', 'ELECTRON_RUN_AS_NODE': '1', 'APPLICATION_INSIGHTS_NO_DIAGNOSTIC_CHANNEL': '1', 'VSCODE_L10N_BUNDLE_LOCATION': 'file:///Users/alpha/.vscode/extensions/ms-ceintl.vscode-language-pack-zh-hans-1.79.2023061409/translations/extensions/vscode.markdown-language-features.i18n.json', 'PYDEVD_IPYTHON_COMPATIBLE_DEBUGGING': '1', 'PYTHONUNBUFFERED': '1', 'PYTHONIOENCODING': 'utf-8', 'PYDEVD_USE_FRAME_EVAL': 'NO', 'CLICOLOR': '1', 'FORCE_COLOR': '1', 'CLICOLOR_FORCE': '1', 'GIT_PAGER': 'cat', 'MPLBACKEND': 'module://matplotlib_inline.backend_inline'})\n",
      "/\n",
      ":\n",
      "\n",
      "\n"
     ]
    }
   ],
   "source": [
    "name = os.name\n",
    "environ = os.environ\n",
    "sep = os.sep # return \"/\"\n",
    "pathsep = os.pathsep # return \":\"\n",
    "linesep = os.linesep # return \"\\n\"\n",
    "\n",
    "print(name)\n",
    "print(environ)\n",
    "print(sep) \n",
    "print(pathsep)\n",
    "print(linesep)"
   ]
  },
  {
   "attachments": {},
   "cell_type": "markdown",
   "metadata": {},
   "source": [
    "##### 文件和目录\n",
    "`os.mkdir()` , `os.rmdir()` , `os.stat` , `os.getcwd()` , `os.rename()`"
   ]
  },
  {
   "cell_type": "code",
   "execution_count": 38,
   "metadata": {},
   "outputs": [],
   "source": [
    "\n",
    "\n",
    "# os.mkdir('./TEST')\n",
    "# os.mkdirs('./test/tt')\n",
    "# os.rmdir('./TEST')\n",
    "# os.rmdirs('./test/')\n",
    "# os.stat\n",
    "# os.rename('./Dlib.md','dlib.ipynb')\n"
   ]
  },
  {
   "attachments": {},
   "cell_type": "markdown",
   "metadata": {},
   "source": [
    "###### 创建和删除文件\n",
    "`with open`\n",
    "os.remove(path)"
   ]
  },
  {
   "cell_type": "code",
   "execution_count": 42,
   "metadata": {},
   "outputs": [
    {
     "name": "stdout",
     "output_type": "stream",
     "text": [
      "['.DS_Store', 'dlib.ipynb', 'math_basic.ipynb', 'test.txt', 'os_basic.ipynb']\n"
     ]
    },
    {
     "data": {
      "text/plain": [
       "['.DS_Store', 'dlib.ipynb', 'math_basic.ipynb', 'os_basic.ipynb']"
      ]
     },
     "execution_count": 42,
     "metadata": {},
     "output_type": "execute_result"
    }
   ],
   "source": [
    "file_name = \"test.txt\"\n",
    "if os.path.exists(file_name):\n",
    "    pass\n",
    "else:\n",
    "    with open(file_name,'w') as f:\n",
    "        f.write('This is a test file')\n",
    "\n",
    "path = os.getcwd()\n",
    "print(os.listdir(path))\n",
    "os.remove('./test.txt')\n",
    "os.listdir(path)"
   ]
  },
  {
   "cell_type": "code",
   "execution_count": 39,
   "metadata": {},
   "outputs": [
    {
     "name": "stdout",
     "output_type": "stream",
     "text": [
      "/Users/alpha/Desktop/Learn/Code_Learning/Python/lib_basic\n"
     ]
    }
   ],
   "source": [
    "path = \"/Users/alpha/Desktop/Learn/Code_Learning/Python/lib_basic/\"\n",
    "os.chdir(path)\n",
    "print(os.getcwd())"
   ]
  }
 ],
 "metadata": {
  "kernelspec": {
   "display_name": "Python 3",
   "language": "python",
   "name": "python3"
  },
  "language_info": {
   "codemirror_mode": {
    "name": "ipython",
    "version": 3
   },
   "file_extension": ".py",
   "mimetype": "text/x-python",
   "name": "python",
   "nbconvert_exporter": "python",
   "pygments_lexer": "ipython3",
   "version": "3.11.4"
  },
  "orig_nbformat": 4
 },
 "nbformat": 4,
 "nbformat_minor": 2
}
