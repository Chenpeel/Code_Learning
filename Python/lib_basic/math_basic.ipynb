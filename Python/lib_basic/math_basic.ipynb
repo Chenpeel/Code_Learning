{
 "cells": [
  {
   "cell_type": "code",
   "execution_count": 2,
   "metadata": {},
   "outputs": [],
   "source": [
    "import math\n",
    "\n",
    "lst = dir(math)\n",
    "# lst"
   ]
  },
  {
   "cell_type": "code",
   "execution_count": 3,
   "metadata": {},
   "outputs": [
    {
     "name": "stdout",
     "output_type": "stream",
     "text": [
      "pi & e\n",
      "3.141592653589793\n",
      "2.718281828459045\n"
     ]
    }
   ],
   "source": [
    "\n",
    "# pi & e\n",
    "print(\"pi & e\")\n",
    "pi = math.pi\n",
    "e  = math.e\n",
    "print(pi)\n",
    "print(e)"
   ]
  },
  {
   "cell_type": "code",
   "execution_count": 4,
   "metadata": {},
   "outputs": [
    {
     "name": "stdout",
     "output_type": "stream",
     "text": [
      "上下取整\n",
      "4\n",
      "3\n"
     ]
    }
   ],
   "source": [
    "\n",
    "# 上下取整\n",
    "print(\"上下取整\")\n",
    "ceil_num = math.ceil(3.5)\n",
    "floor_num = math.floor(3.5)\n",
    "print(ceil_num)\n",
    "print(floor_num)"
   ]
  },
  {
   "cell_type": "code",
   "execution_count": 5,
   "metadata": {},
   "outputs": [
    {
     "name": "stdout",
     "output_type": "stream",
     "text": [
      "乘方 & 开方\n",
      "9.0 16.0\n",
      "9 16\n",
      "3.0 4.0\n"
     ]
    }
   ],
   "source": [
    "# 乘方 & 开方\n",
    "print(\"乘方 & 开方\")\n",
    "print(math.pow(3,2),math.pow(2,4))  # def pow(__x: _SupportsFloatOrIndex, __y: _SupportsFloatOrIndex) -> float: ...\n",
    "print(3**2,2**4)    # 得到int  然而print(3**2==math.pow(3,2)) # True\n",
    "print(math.sqrt(9),math.sqrt(16))\n"
   ]
  },
  {
   "cell_type": "code",
   "execution_count": 6,
   "metadata": {},
   "outputs": [
    {
     "name": "stdout",
     "output_type": "stream",
     "text": [
      "弧度 & 角度\n",
      "180.0 3.141592653589793\n"
     ]
    }
   ],
   "source": [
    "# 弧度 & 角度\n",
    "print(\"弧度 & 角度\")\n",
    "dge = math.degrees(3.141592653589793)\n",
    "rds = math.radians(180)\n",
    "\n",
    "print(dge,rds)\n",
    "\n"
   ]
  },
  {
   "cell_type": "code",
   "execution_count": 7,
   "metadata": {},
   "outputs": [
    {
     "name": "stdout",
     "output_type": "stream",
     "text": [
      "sin(x) cos(x) tan(x) tanh(x) sinh(x) cosh(x)\n",
      "1.0 ...\n",
      "2.3012989023072947 ...\n"
     ]
    }
   ],
   "source": [
    "# sin(x) cos(x) tan(x) tanh(x) sinh(x) cosh(x) \n",
    "print(\"sin(x) cos(x) tan(x) tanh(x) sinh(x) cosh(x)\")\n",
    "print(math.sin(math.pi/2),\"...\")\n",
    "print(math.sinh(math.pi/2),\"...\")"
   ]
  }
 ],
 "metadata": {
  "kernelspec": {
   "display_name": "Python 3",
   "language": "python",
   "name": "python3"
  },
  "language_info": {
   "codemirror_mode": {
    "name": "ipython",
    "version": 3
   },
   "file_extension": ".py",
   "mimetype": "text/x-python",
   "name": "python",
   "nbconvert_exporter": "python",
   "pygments_lexer": "ipython3",
   "version": "3.11.4"
  },
  "orig_nbformat": 4
 },
 "nbformat": 4,
 "nbformat_minor": 2
}
