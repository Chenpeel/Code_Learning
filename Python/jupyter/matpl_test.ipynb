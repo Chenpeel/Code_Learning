{
 "cells": [
  {
   "attachments": {},
   "cell_type": "markdown",
   "metadata": {},
   "source": [
    "#### test matplotlib to draw function"
   ]
  },
  {
   "cell_type": "code",
   "execution_count": null,
   "metadata": {},
   "outputs": [],
   "source": [
    "import matplotlib.pyplot as plt\n",
    "import numpy as np\n",
    "\n",
    "x = np.linspace(-20, 20, 10)\n",
    "y = x**4 + 2*x**3+7*x**2+9*x+1\n",
    "plt.plot(x, y)\n"
   ]
  },
  {
   "attachments": {},
   "cell_type": "markdown",
   "metadata": {},
   "source": [
    "#### K-means test of sklearn"
   ]
  },
  {
   "cell_type": "code",
   "execution_count": null,
   "metadata": {},
   "outputs": [],
   "source": [
    "from sklearn.datasets import make_blobs\n",
    "# KNN 分类器\n",
    "from sklearn.neighbors import KNeighborsClassifier\n",
    "import matplotlib.pyplot as plt\n",
    "from sklearn.model_selection import train_test_split\n",
    "data = make_blobs(n_samples=2000, centers=5, random_state=8)\n",
    "X, y = data\n",
    "plt.scatter(X[:, 0], X[:, 1], c=y, cmap=plt.cm.spring, edgecolor='k')\n",
    "plt.show()\n"
   ]
  },
  {
   "cell_type": "code",
   "execution_count": null,
   "metadata": {},
   "outputs": [],
   "source": [
    "clf = KNeighborsClassifier()\n",
    "clf.fit(X, y)\n",
    "\n",
    "x_min, x_max = X[:, 0].min()-1, X[:, 0].max()+1\n",
    "y_min, y_max = X[:, 1].min()-1, X[:, 1].max()+1\n",
    "xx, yy = np.meshgrid(np.arange(x_min, x_max, .02),\n",
    "                     np.arange(y_min, y_max, .02))\n",
    "z = clf.predict(np.c_[xx.ravel(), yy.ravel()])\n",
    "z = z.reshape(xx.shape)\n",
    "plt.pcolormesh(xx, yy, z, cmap=plt.cm.Pastel1)\n",
    "plt.scatter(X[:, 0], X[:, 1], c=y, cmap=plt.cm.spring, edgecolors='k')\n",
    "plt.xlim(xx.min(), xx.max())\n",
    "plt.ylim(yy.min(), yy.max())\n",
    "plt.title(\"Classifier : KNN\")\n",
    "\n",
    "plt.scatter(6.75, 4.82, marker=\"*\", c=\"red\", s=200)\n",
    "plt.show()\n",
    "print(clf.predict([[6.75, 4.82]]))\n",
    "print(\"score:{:.2f} \".format(clf.score(X, y)))\n"
   ]
  }
 ],
 "metadata": {
  "kernelspec": {
   "display_name": "Python 3",
   "language": "python",
   "name": "python3"
  },
  "language_info": {
   "codemirror_mode": {
    "name": "ipython",
    "version": 3
   },
   "file_extension": ".py",
   "mimetype": "text/x-python",
   "name": "python",
   "nbconvert_exporter": "python",
   "pygments_lexer": "ipython3",
   "version": "3.11.3"
  },
  "orig_nbformat": 4
 },
 "nbformat": 4,
 "nbformat_minor": 2
}
